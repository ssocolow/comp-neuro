{
 "cells": [
  {
   "cell_type": "markdown",
   "id": "6e6f33aa",
   "metadata": {},
   "source": [
    "# Macaque Motor Cortex recordings"
   ]
  },
  {
   "cell_type": "markdown",
   "id": "f2449ec4",
   "metadata": {},
   "source": [
    "## 1. Firing Rate\n",
    "Analyzing the responses of neuron unit #94 to direction 6 from 1 second before the go cue to 1 second afterward."
   ]
  },
  {
   "cell_type": "code",
   "execution_count": 2,
   "id": "4d3b32c2",
   "metadata": {},
   "outputs": [],
   "source": [
    "# load spiking models and analysis techniques\n",
    "from compneuro import *"
   ]
  },
  {
   "cell_type": "code",
   "execution_count": 3,
   "id": "300714ae",
   "metadata": {},
   "outputs": [],
   "source": [
    "# read in the data\n",
    "go_info = np.loadtxt('go.txt')\n",
    "direction = np.loadtxt('direction.txt')\n",
    "neuron94 = np.loadtxt('spike_trains/spike_train_unit_093.txt')"
   ]
  },
  {
   "cell_type": "code",
   "execution_count": 28,
   "id": "b491e34a",
   "metadata": {},
   "outputs": [
    {
     "name": "stdout",
     "output_type": "stream",
     "text": [
      "(24,)\n",
      "[  45.287533  253.6178    539.259933  548.513667  552.603567  575.370933\n",
      "  662.942533  667.3324    704.479367  768.6576    810.226467  820.688167\n",
      "  828.885933  850.719333  892.2482    928.7672    943.784767  966.350167\n",
      " 1099.5545   1145.277233 1164.5847   1176.920367 1226.197    1246.960433]\n"
     ]
    }
   ],
   "source": [
    "# find all the go cue timings where the direction is 6\n",
    "indicies = np.where(direction == 6)\n",
    "print(indicies[0].shape)\n",
    "six_go_cues = go_info[indicies]\n",
    "print(six_go_cues)"
   ]
  },
  {
   "cell_type": "code",
   "execution_count": 40,
   "id": "8420f2b4",
   "metadata": {},
   "outputs": [
    {
     "name": "stdout",
     "output_type": "stream",
     "text": [
      "[array([-0.971366, -0.743066, -0.622533, -0.514133, -0.275366, -0.244833,\n",
      "       -0.231   , -0.182   , -0.1621  , -0.136266, -0.0783  , -0.074766,\n",
      "       -0.067033, -0.0482  ,  0.009867,  0.038034,  0.078934,  0.165167,\n",
      "        0.177467,  0.2123  ,  0.231934,  0.275934,  0.336234,  0.401134,\n",
      "        0.454734,  0.4806  ,  0.500134,  0.505834,  0.571767,  0.584834,\n",
      "        0.592467,  0.686334,  0.8816  ,  0.903267,  0.978434]), array([-0.997533, -0.849633, -0.783533, -0.747767, -0.6021  , -0.5259  ,\n",
      "       -0.4628  , -0.436533, -0.351867, -0.2855  , -0.272467, -0.198933,\n",
      "       -0.063467, -0.060367, -0.022   ,  0.0315  ,  0.0914  ,  0.279267,\n",
      "        0.402733,  0.470933,  0.518467,  0.5439  ,  0.615533,  0.630133,\n",
      "        0.638733,  0.677767,  0.705533,  0.723233,  0.728133,  0.796567,\n",
      "        0.8071  ,  0.8249  ,  0.840333,  0.845233,  0.8503  ,  0.864333,\n",
      "        0.906133,  0.9157  ,  0.961333]), array([-0.904066, -0.8401  , -0.8293  , -0.772566, -0.7447  , -0.6575  ,\n",
      "       -0.6139  , -0.562366, -0.479766, -0.360733, -0.320133, -0.298866,\n",
      "       -0.253433, -0.223133, -0.1875  , -0.165766, -0.138466, -0.065266,\n",
      "       -0.004466,  0.0989  ,  0.114334,  0.134267,  0.148167,  0.1745  ,\n",
      "        0.1974  ,  0.223667,  0.243534,  0.310367,  0.3208  ,  0.336767,\n",
      "        0.353234,  0.397167,  0.4236  ,  0.425967,  0.448267,  0.4621  ,\n",
      "        0.473867,  0.498767,  0.511767,  0.5431  ,  0.590267,  0.629634,\n",
      "        0.632334,  0.6658  ,  0.721134,  0.765967,  0.787834,  0.948067,\n",
      "        0.961034,  0.964334,  0.988134]), array([-0.895134, -0.801034, -0.732934, -0.652867, -0.6301  , -0.626267,\n",
      "       -0.589767, -0.503234, -0.4666  , -0.412934, -0.396834, -0.372234,\n",
      "       -0.364334, -0.296734, -0.290367, -0.263034, -0.195267, -0.1652  ,\n",
      "       -0.117334, -0.084634, -0.064667, -0.062234, -0.003267,  0.004066,\n",
      "        0.053766,  0.1366  ,  0.146866,  0.226033,  0.2568  ,  0.282633,\n",
      "        0.299933,  0.366966,  0.3873  ,  0.400733,  0.406133,  0.4323  ,\n",
      "        0.479533,  0.494   ,  0.513733,  0.579933,  0.6032  ,  0.6072  ,\n",
      "        0.6658  ,  0.686833,  0.707266,  0.745366,  0.775833,  0.789866,\n",
      "        0.805133,  0.831166,  0.879266,  0.886133,  0.9202  ,  0.955666]), array([-0.946534, -0.887367, -0.845667, -0.7733  , -0.712834, -0.6902  ,\n",
      "       -0.6408  , -0.597334, -0.5244  , -0.476867, -0.415467, -0.335534,\n",
      "       -0.277767, -0.252834, -0.207934, -0.1632  , -0.111067, -0.090934,\n",
      "       -0.079967, -0.026   ,  0.0163  ,  0.0409  ,  0.1078  ,  0.1331  ,\n",
      "        0.135966,  0.187333,  0.209266,  0.230633,  0.276833,  0.289733,\n",
      "        0.3273  ,  0.3548  ,  0.359266,  0.379833,  0.3871  ,  0.428733,\n",
      "        0.458666,  0.590666,  0.675666,  0.728833,  0.750966,  0.8131  ,\n",
      "        0.856433,  0.926766,  0.9483  ,  0.963266,  0.9783  ]), array([-0.981033, -0.973233, -0.939866, -0.9258  , -0.899833, -0.887833,\n",
      "       -0.87    , -0.780666, -0.756266, -0.707566, -0.591766, -0.503433,\n",
      "       -0.435   , -0.3537  , -0.236733, -0.216233, -0.109933, -0.048566,\n",
      "        0.054434,  0.089334,  0.1011  ,  0.1536  ,  0.1676  ,  0.234434,\n",
      "        0.357234,  0.393534,  0.457934,  0.471434,  0.544067,  0.554167,\n",
      "        0.6119  ,  0.6546  ,  0.659334,  0.685434,  0.689267,  0.7113  ,\n",
      "        0.733034,  0.776067,  0.812167,  0.8566  ,  0.9752  ]), array([-0.9538  , -0.947666, -0.872533, -0.8021  , -0.769133, -0.695133,\n",
      "       -0.597866, -0.551266, -0.5301  , -0.489533, -0.440766, -0.3951  ,\n",
      "       -0.382966, -0.334666, -0.317366, -0.2732  , -0.214733, -0.1275  ,\n",
      "        0.0279  ,  0.051367,  0.1058  ,  0.113867,  0.138134,  0.209867,\n",
      "        0.2477  ,  0.272567,  0.281167,  0.314334,  0.3353  ,  0.3575  ,\n",
      "        0.417667,  0.4618  ,  0.471167,  0.4922  ,  0.5397  ,  0.547634,\n",
      "        0.567034,  0.572967,  0.686   ,  0.7947  ,  0.944034]), array([-0.990833, -0.887867, -0.780967, -0.578633, -0.499667, -0.462567,\n",
      "       -0.3751  , -0.316233, -0.233633, -0.1983  , -0.1716  , -0.160833,\n",
      "       -0.157333, -0.142567, -0.138133, -0.060833, -0.046633,  0.008333,\n",
      "        0.0214  ,  0.038967,  0.075933,  0.116967,  0.177933,  0.242033,\n",
      "        0.3277  ,  0.3653  ,  0.398633,  0.4265  ,  0.4474  ,  0.467267,\n",
      "        0.480967,  0.4909  ,  0.520333,  0.551267,  0.5741  ,  0.597067,\n",
      "        0.6256  ,  0.6483  ,  0.679433,  0.685633,  0.747667,  0.805033,\n",
      "        0.824867]), array([-0.8718  , -0.807067, -0.5985  , -0.497167, -0.4514  , -0.347434,\n",
      "       -0.334234, -0.3276  , -0.3146  , -0.272234, -0.2592  , -0.2519  ,\n",
      "       -0.2457  , -0.1947  , -0.120734, -0.100734,  0.047466,  0.096033,\n",
      "        0.129066,  0.143733,  0.2283  ,  0.352766,  0.3663  ,  0.375766,\n",
      "        0.4033  ,  0.408733,  0.433633,  0.445133,  0.451633,  0.470733,\n",
      "        0.477   ,  0.531666,  0.569833,  0.588033,  0.639166,  0.665866,\n",
      "        0.682166,  0.708566,  0.7261  ,  0.767466,  0.7896  ,  0.83    ]), array([-0.986667, -0.7473  , -0.6168  , -0.5655  , -0.4875  , -0.463967,\n",
      "       -0.456   , -0.412467, -0.364   , -0.336433, -0.316433, -0.256667,\n",
      "       -0.2302  , -0.2154  , -0.196467, -0.1779  , -0.149667, -0.114   ,\n",
      "        0.031467,  0.107633,  0.132633,  0.179367,  0.222833,  0.255867,\n",
      "        0.277   ,  0.338   ,  0.4128  ,  0.427667,  0.446833,  0.5026  ,\n",
      "        0.562667,  0.628467,  0.886333]), array([-0.998134, -0.9682  , -0.953   , -0.888534, -0.7936  , -0.659967,\n",
      "       -0.590834, -0.553067, -0.2446  , -0.210134, -0.1908  , -0.1182  ,\n",
      "       -0.020367,  0.0746  ,  0.168266,  0.203966,  0.270033,  0.2763  ,\n",
      "        0.308033,  0.3323  ,  0.353833,  0.378866,  0.3855  ,  0.4324  ,\n",
      "        0.493166,  0.5029  ,  0.5293  ,  0.5432  ,  0.5667  ,  0.598333,\n",
      "        0.608133,  0.6358  ,  0.674333,  0.7103  ,  0.734033,  0.796266]), array([-0.995034, -0.9385  , -0.7729  , -0.5953  , -0.5788  , -0.5179  ,\n",
      "       -0.295967, -0.241834, -0.180934, -0.107134, -0.0224  ,  0.0023  ,\n",
      "        0.034633,  0.0812  ,  0.115533,  0.1585  ,  0.203566,  0.231   ,\n",
      "        0.248366,  0.290966,  0.3185  ,  0.347233,  0.355833,  0.367766,\n",
      "        0.381266,  0.3965  ,  0.449566,  0.455266,  0.507833,  0.539866,\n",
      "        0.5584  ,  0.583633,  0.610866,  0.6425  ,  0.6664  ,  0.698833,\n",
      "        0.7307  ,  0.7524  ,  0.762666,  0.766833,  0.8192  ,  0.849866,\n",
      "        0.8903  ,  0.9069  ]), array([-8.79600e-01, -6.70266e-01, -6.46900e-01, -6.23133e-01,\n",
      "       -5.43500e-01, -4.34433e-01, -3.18300e-01, -2.64033e-01,\n",
      "       -2.22133e-01, -1.43066e-01, -1.07866e-01, -4.87000e-02,\n",
      "       -7.33000e-04,  4.07670e-02,  5.94670e-02,  8.91000e-02,\n",
      "        1.05467e-01,  1.42400e-01,  2.83867e-01,  3.72267e-01,\n",
      "        3.85367e-01,  4.17434e-01,  4.23234e-01,  4.25967e-01,\n",
      "        4.45834e-01,  4.71300e-01,  4.88834e-01,  5.12367e-01,\n",
      "        5.64200e-01,  7.32634e-01,  7.78900e-01,  7.95067e-01,\n",
      "        8.15600e-01,  9.02100e-01,  9.36667e-01,  9.41067e-01,\n",
      "        9.53567e-01,  9.70134e-01]), array([-0.939066, -0.872633, -0.8447  , -0.781733, -0.695933, -0.322066,\n",
      "       -0.2621  , -0.248966, -0.245766, -0.232466, -0.1823  , -0.159333,\n",
      "       -0.154966, -0.097066, -0.066533, -0.0371  , -0.0039  ,  0.029767,\n",
      "        0.099867,  0.1772  ,  0.223167,  0.281967,  0.4141  ,  0.466934,\n",
      "        0.5073  ,  0.5363  ,  0.569834,  0.6132  ,  0.690534,  0.724834,\n",
      "        0.728434,  0.768167,  0.787334]), array([-0.987633, -0.5044  , -0.482667, -0.3279  , -0.3045  , -0.301033,\n",
      "       -0.2773  , -0.207967, -0.181   , -0.175   , -0.170533, -0.123533,\n",
      "       -0.106433, -0.0752  , -0.0274  , -0.003033,  0.052833,  0.075267,\n",
      "        0.147133,  0.182133,  0.219667,  0.256467,  0.296033,  0.3499  ,\n",
      "        0.423633,  0.4579  ,  0.494433,  0.545667,  0.6552  ,  0.743   ,\n",
      "        0.880667,  0.913   ,  0.950567,  0.988067]), array([-0.942333, -0.856833, -0.679433, -0.606833, -0.415333, -0.297567,\n",
      "       -0.217033, -0.200633, -0.19    , -0.162967, -0.129833, -0.1026  ,\n",
      "       -0.057933, -0.022433,  0.014267,  0.074133,  0.101833,  0.176133,\n",
      "        0.2786  ,  0.368833,  0.420833,  0.4505  ,  0.472   ,  0.484467,\n",
      "        0.493   ,  0.509333,  0.5268  ,  0.541233,  0.547667,  0.6193  ,\n",
      "        0.631167,  0.656933,  0.680867,  0.713567,  0.7495  ,  0.817067,\n",
      "        0.8907  ,  0.927067,  0.944533,  0.966667]), array([-0.9846  , -0.900767, -0.828134, -0.7648  , -0.656134, -0.252567,\n",
      "       -0.193434, -0.174034, -0.133734, -0.1082  , -0.048767, -0.017867,\n",
      "        0.012133,  0.446266,  0.474633,  0.496133,  0.554433,  0.559466,\n",
      "        0.570433,  0.6347  ,  0.659766,  0.7433  ,  0.8031  ,  0.8376  ,\n",
      "        0.8425  ,  0.8661  ,  0.870633,  0.8944  ,  0.938833]), array([-0.9791  , -0.859867, -0.7013  , -0.367034, -0.089067, -0.055967,\n",
      "       -0.006967,  0.054633,  0.0792  ,  0.140266,  0.1633  ,  0.3392  ,\n",
      "        0.4031  ,  0.409266,  0.4355  ,  0.476866,  0.4947  ,  0.513366,\n",
      "        0.530833,  0.586233,  0.611566,  0.684333,  0.766433]), array([-0.933533, -0.875667, -0.8519  , -0.547333, -0.473567, -0.457267,\n",
      "       -0.426333, -0.3741  , -0.339567, -0.241567, -0.200233, -0.1643  ,\n",
      "       -0.135467, -0.111733, -0.078633, -0.061733, -0.035833,  0.088233,\n",
      "        0.180233,  0.276   ,  0.292633,  0.3328  ,  0.374367,  0.4043  ,\n",
      "        0.459633,  0.523333,  0.555267,  0.584567,  0.6011  ,  0.623633,\n",
      "        0.628067,  0.685267,  0.711   ,  0.760533,  0.822333,  0.886633,\n",
      "        0.9387  ]), array([-0.992033, -0.955833, -0.890766, -0.881133, -0.6784  , -0.661033,\n",
      "       -0.499133, -0.457733, -0.403533, -0.372866, -0.330666, -0.276366,\n",
      "       -0.228066, -0.2165  , -0.1097  , -0.0732  , -0.068133, -0.034166,\n",
      "       -0.0035  ,  0.0152  ,  0.017634,  0.047834,  0.064967,  0.090134,\n",
      "        0.1232  ,  0.155167,  0.172367,  0.286734,  0.440034,  0.5564  ,\n",
      "        0.625067,  0.6331  ,  0.650234,  0.654567,  0.672934,  0.711567,\n",
      "        0.7496  ,  0.762867,  0.769334,  0.790067,  0.794067,  0.820234,\n",
      "        0.8499  ,  0.8588  ,  0.868534,  0.883667,  0.902367,  0.951467,\n",
      "        0.978634]), array([-0.9896  , -0.924333, -0.9107  , -0.835467, -0.765833, -0.751033,\n",
      "       -0.677267, -0.5512  , -0.230033, -0.154   ,  0.037567,  0.046833,\n",
      "        0.112867,  0.130033,  0.189467,  0.231267,  0.2593  ,  0.288433,\n",
      "        0.359767,  0.377   ,  0.389467,  0.407633,  0.4274  ,  0.470233,\n",
      "        0.501   ,  0.527   ,  0.646067,  0.946967,  0.990433]), array([-0.9808  , -0.872834, -0.8193  , -0.721234, -0.719067, -0.672167,\n",
      "       -0.611334, -0.5215  , -0.4985  , -0.4366  , -0.398934, -0.3796  ,\n",
      "       -0.3429  , -0.310467, -0.127234, -0.076767, -0.0316  ,  0.109166,\n",
      "        0.124533,  0.1449  ,  0.158333,  0.166666,  0.199166,  0.457033,\n",
      "        0.5051  ,  0.511833,  0.531166,  0.564466,  0.590533,  0.613633,\n",
      "        0.652333,  0.668666,  0.6793  ,  0.7011  ,  0.7093  ,  0.7548  ,\n",
      "        0.818833,  0.826433,  0.850433,  0.882233,  0.972533]), array([-0.898533, -0.855733, -0.805467, -0.708167, -0.6376  , -0.527867,\n",
      "       -0.505067, -0.312133, -0.149167, -0.069233, -0.012433,  0.0438  ,\n",
      "        0.0578  ,  0.060567,  0.076767,  0.092467,  0.0958  ,  0.1322  ,\n",
      "        0.1505  ,  0.163467,  0.169167,  0.215967,  0.253133,  0.2909  ,\n",
      "        0.331267,  0.373133,  0.385767,  0.4357  ,  0.525067,  0.6259  ,\n",
      "        0.6532  ,  0.730867]), array([-0.923033, -0.857733, -0.6298  , -0.555166, -0.152666, -0.138233,\n",
      "       -0.065733, -0.047233, -0.041   , -0.0224  ,  0.017634,  0.047567,\n",
      "        0.054167,  0.094267,  0.126734,  0.137734,  0.157167,  0.169767,\n",
      "        0.190867,  0.228667,  0.289867,  0.302167,  0.3579  ,  0.380634,\n",
      "        0.403067,  0.427   ,  0.441434,  0.496567,  0.522067,  0.544534,\n",
      "        0.6143  ,  0.694267,  0.7513  ])]\n"
     ]
    }
   ],
   "source": [
    "# find spiking times one second before the go cue to one second after\n",
    "relative_spikes = []\n",
    "for cue in six_go_cues:\n",
    "    idxs = np.where(abs(neuron94 - cue) <= 1)\n",
    "    relative_spikes.append(neuron94[idxs] - cue)\n",
    "print(relative_spikes)"
   ]
  },
  {
   "cell_type": "markdown",
   "id": "d6c7d55f",
   "metadata": {},
   "source": [
    "## a) Raster plot showing 1 second before and 1 second after go cue"
   ]
  },
  {
   "cell_type": "code",
   "execution_count": 30,
   "id": "946a64df",
   "metadata": {},
   "outputs": [
    {
     "data": {
      "image/png": "[encoded data removed]",
      "text/plain": [
       "<Figure size 640x480 with 1 Axes>"
      ]
     },
     "metadata": {},
     "output_type": "display_data"
    }
   ],
   "source": [
    "plt.eventplot(relative_spikes);\n",
    "plt.axvline(x=0, color='red', linestyle='--', linewidth=1.5);\n",
    "plt.title(\"Responses of Neuron Unit 94 to direction 6\");"
   ]
  },
  {
   "cell_type": "markdown",
   "id": "38398ff5",
   "metadata": {},
   "source": [
    "## b) Trial averaged spike count from the 2 second window centered at the go cue"
   ]
  },
  {
   "cell_type": "code",
   "execution_count": 36,
   "id": "f92266fb",
   "metadata": {},
   "outputs": [
    {
     "name": "stdout",
     "output_type": "stream",
     "text": [
      "Trial-averaged spike count during the period [-1,1] sec relative to the go cue: 38.5\n"
     ]
    }
   ],
   "source": [
    "totals = [len(x) for x in relative_spikes]\n",
    "print(f\"Trial-averaged spike count during the period [-1,1] sec relative to the go cue: {sum(totals)/len(totals)}\")"
   ]
  },
  {
   "cell_type": "markdown",
   "id": "3ef5392a",
   "metadata": {},
   "source": [
    "## c) Peri-Stimulus Time histogram with 50 ms bin-size"
   ]
  },
  {
   "cell_type": "code",
   "execution_count": 43,
   "id": "83fb6e28",
   "metadata": {},
   "outputs": [
    {
     "data": {
      "image/png": "[encoded data removed]",
      "text/plain": [
       "<Figure size 640x480 with 1 Axes>"
      ]
     },
     "metadata": {},
     "output_type": "display_data"
    }
   ],
   "source": [
    "bin_centers, counts = psth(relative_spikes, 0.05, -1, 1)\n",
    "plt.bar(bin_centers, counts, width=0.05);\n",
    "plt.title(\"Peristimulus time histogram with 50ms bin size for Unit 94 direction 6\");"
   ]
  },
  {
   "cell_type": "markdown",
   "id": "adce0bbe",
   "metadata": {},
   "source": [
    "## d) Using Gaussian filters of different widths to visualize a smooth function of firing rate over time"
   ]
  },
  {
   "cell_type": "code",
   "execution_count": null,
   "id": "1253302f",
   "metadata": {},
   "outputs": [],
   "source": [
    "# use scipy for the gaussian filter\n",
    "from scipy.ndimage import gaussian_filter"
   ]
  },
  {
   "cell_type": "code",
   "execution_count": null,
   "id": "93c9e92f",
   "metadata": {},
   "outputs": [
    {
     "name": "stdout",
     "output_type": "stream",
     "text": [
      "[array([-0.971366, -0.743066, -0.622533, -0.514133, -0.275366, -0.244833,\n",
      "       -0.231   , -0.182   , -0.1621  , -0.136266, -0.0783  , -0.074766,\n",
      "       -0.067033, -0.0482  ,  0.009867,  0.038034,  0.078934,  0.165167,\n",
      "        0.177467,  0.2123  ,  0.231934,  0.275934,  0.336234,  0.401134,\n",
      "        0.454734,  0.4806  ,  0.500134,  0.505834,  0.571767,  0.584834,\n",
      "        0.592467,  0.686334,  0.8816  ,  0.903267,  0.978434]), array([-0.997533, -0.849633, -0.783533, -0.747767, -0.6021  , -0.5259  ,\n",
      "       -0.4628  , -0.436533, -0.351867, -0.2855  , -0.272467, -0.198933,\n",
      "       -0.063467, -0.060367, -0.022   ,  0.0315  ,  0.0914  ,  0.279267,\n",
      "        0.402733,  0.470933,  0.518467,  0.5439  ,  0.615533,  0.630133,\n",
      "        0.638733,  0.677767,  0.705533,  0.723233,  0.728133,  0.796567,\n",
      "        0.8071  ,  0.8249  ,  0.840333,  0.845233,  0.8503  ,  0.864333,\n",
      "        0.906133,  0.9157  ,  0.961333]), array([-0.904066, -0.8401  , -0.8293  , -0.772566, -0.7447  , -0.6575  ,\n",
      "       -0.6139  , -0.562366, -0.479766, -0.360733, -0.320133, -0.298866,\n",
      "       -0.253433, -0.223133, -0.1875  , -0.165766, -0.138466, -0.065266,\n",
      "       -0.004466,  0.0989  ,  0.114334,  0.134267,  0.148167,  0.1745  ,\n",
      "        0.1974  ,  0.223667,  0.243534,  0.310367,  0.3208  ,  0.336767,\n",
      "        0.353234,  0.397167,  0.4236  ,  0.425967,  0.448267,  0.4621  ,\n",
      "        0.473867,  0.498767,  0.511767,  0.5431  ,  0.590267,  0.629634,\n",
      "        0.632334,  0.6658  ,  0.721134,  0.765967,  0.787834,  0.948067,\n",
      "        0.961034,  0.964334,  0.988134]), array([-0.895134, -0.801034, -0.732934, -0.652867, -0.6301  , -0.626267,\n",
      "       -0.589767, -0.503234, -0.4666  , -0.412934, -0.396834, -0.372234,\n",
      "       -0.364334, -0.296734, -0.290367, -0.263034, -0.195267, -0.1652  ,\n",
      "       -0.117334, -0.084634, -0.064667, -0.062234, -0.003267,  0.004066,\n",
      "        0.053766,  0.1366  ,  0.146866,  0.226033,  0.2568  ,  0.282633,\n",
      "        0.299933,  0.366966,  0.3873  ,  0.400733,  0.406133,  0.4323  ,\n",
      "        0.479533,  0.494   ,  0.513733,  0.579933,  0.6032  ,  0.6072  ,\n",
      "        0.6658  ,  0.686833,  0.707266,  0.745366,  0.775833,  0.789866,\n",
      "        0.805133,  0.831166,  0.879266,  0.886133,  0.9202  ,  0.955666]), array([-0.946534, -0.887367, -0.845667, -0.7733  , -0.712834, -0.6902  ,\n",
      "       -0.6408  , -0.597334, -0.5244  , -0.476867, -0.415467, -0.335534,\n",
      "       -0.277767, -0.252834, -0.207934, -0.1632  , -0.111067, -0.090934,\n",
      "       -0.079967, -0.026   ,  0.0163  ,  0.0409  ,  0.1078  ,  0.1331  ,\n",
      "        0.135966,  0.187333,  0.209266,  0.230633,  0.276833,  0.289733,\n",
      "        0.3273  ,  0.3548  ,  0.359266,  0.379833,  0.3871  ,  0.428733,\n",
      "        0.458666,  0.590666,  0.675666,  0.728833,  0.750966,  0.8131  ,\n",
      "        0.856433,  0.926766,  0.9483  ,  0.963266,  0.9783  ]), array([-0.981033, -0.973233, -0.939866, -0.9258  , -0.899833, -0.887833,\n",
      "       -0.87    , -0.780666, -0.756266, -0.707566, -0.591766, -0.503433,\n",
      "       -0.435   , -0.3537  , -0.236733, -0.216233, -0.109933, -0.048566,\n",
      "        0.054434,  0.089334,  0.1011  ,  0.1536  ,  0.1676  ,  0.234434,\n",
      "        0.357234,  0.393534,  0.457934,  0.471434,  0.544067,  0.554167,\n",
      "        0.6119  ,  0.6546  ,  0.659334,  0.685434,  0.689267,  0.7113  ,\n",
      "        0.733034,  0.776067,  0.812167,  0.8566  ,  0.9752  ]), array([-0.9538  , -0.947666, -0.872533, -0.8021  , -0.769133, -0.695133,\n",
      "       -0.597866, -0.551266, -0.5301  , -0.489533, -0.440766, -0.3951  ,\n",
      "       -0.382966, -0.334666, -0.317366, -0.2732  , -0.214733, -0.1275  ,\n",
      "        0.0279  ,  0.051367,  0.1058  ,  0.113867,  0.138134,  0.209867,\n",
      "        0.2477  ,  0.272567,  0.281167,  0.314334,  0.3353  ,  0.3575  ,\n",
      "        0.417667,  0.4618  ,  0.471167,  0.4922  ,  0.5397  ,  0.547634,\n",
      "        0.567034,  0.572967,  0.686   ,  0.7947  ,  0.944034]), array([-0.990833, -0.887867, -0.780967, -0.578633, -0.499667, -0.462567,\n",
      "       -0.3751  , -0.316233, -0.233633, -0.1983  , -0.1716  , -0.160833,\n",
      "       -0.157333, -0.142567, -0.138133, -0.060833, -0.046633,  0.008333,\n",
      "        0.0214  ,  0.038967,  0.075933,  0.116967,  0.177933,  0.242033,\n",
      "        0.3277  ,  0.3653  ,  0.398633,  0.4265  ,  0.4474  ,  0.467267,\n",
      "        0.480967,  0.4909  ,  0.520333,  0.551267,  0.5741  ,  0.597067,\n",
      "        0.6256  ,  0.6483  ,  0.679433,  0.685633,  0.747667,  0.805033,\n",
      "        0.824867]), array([-0.8718  , -0.807067, -0.5985  , -0.497167, -0.4514  , -0.347434,\n",
      "       -0.334234, -0.3276  , -0.3146  , -0.272234, -0.2592  , -0.2519  ,\n",
      "       -0.2457  , -0.1947  , -0.120734, -0.100734,  0.047466,  0.096033,\n",
      "        0.129066,  0.143733,  0.2283  ,  0.352766,  0.3663  ,  0.375766,\n",
      "        0.4033  ,  0.408733,  0.433633,  0.445133,  0.451633,  0.470733,\n",
      "        0.477   ,  0.531666,  0.569833,  0.588033,  0.639166,  0.665866,\n",
      "        0.682166,  0.708566,  0.7261  ,  0.767466,  0.7896  ,  0.83    ]), array([-0.986667, -0.7473  , -0.6168  , -0.5655  , -0.4875  , -0.463967,\n",
      "       -0.456   , -0.412467, -0.364   , -0.336433, -0.316433, -0.256667,\n",
      "       -0.2302  , -0.2154  , -0.196467, -0.1779  , -0.149667, -0.114   ,\n",
      "        0.031467,  0.107633,  0.132633,  0.179367,  0.222833,  0.255867,\n",
      "        0.277   ,  0.338   ,  0.4128  ,  0.427667,  0.446833,  0.5026  ,\n",
      "        0.562667,  0.628467,  0.886333]), array([-0.998134, -0.9682  , -0.953   , -0.888534, -0.7936  , -0.659967,\n",
      "       -0.590834, -0.553067, -0.2446  , -0.210134, -0.1908  , -0.1182  ,\n",
      "       -0.020367,  0.0746  ,  0.168266,  0.203966,  0.270033,  0.2763  ,\n",
      "        0.308033,  0.3323  ,  0.353833,  0.378866,  0.3855  ,  0.4324  ,\n",
      "        0.493166,  0.5029  ,  0.5293  ,  0.5432  ,  0.5667  ,  0.598333,\n",
      "        0.608133,  0.6358  ,  0.674333,  0.7103  ,  0.734033,  0.796266]), array([-0.995034, -0.9385  , -0.7729  , -0.5953  , -0.5788  , -0.5179  ,\n",
      "       -0.295967, -0.241834, -0.180934, -0.107134, -0.0224  ,  0.0023  ,\n",
      "        0.034633,  0.0812  ,  0.115533,  0.1585  ,  0.203566,  0.231   ,\n",
      "        0.248366,  0.290966,  0.3185  ,  0.347233,  0.355833,  0.367766,\n",
      "        0.381266,  0.3965  ,  0.449566,  0.455266,  0.507833,  0.539866,\n",
      "        0.5584  ,  0.583633,  0.610866,  0.6425  ,  0.6664  ,  0.698833,\n",
      "        0.7307  ,  0.7524  ,  0.762666,  0.766833,  0.8192  ,  0.849866,\n",
      "        0.8903  ,  0.9069  ]), array([-8.79600e-01, -6.70266e-01, -6.46900e-01, -6.23133e-01,\n",
      "       -5.43500e-01, -4.34433e-01, -3.18300e-01, -2.64033e-01,\n",
      "       -2.22133e-01, -1.43066e-01, -1.07866e-01, -4.87000e-02,\n",
      "       -7.33000e-04,  4.07670e-02,  5.94670e-02,  8.91000e-02,\n",
      "        1.05467e-01,  1.42400e-01,  2.83867e-01,  3.72267e-01,\n",
      "        3.85367e-01,  4.17434e-01,  4.23234e-01,  4.25967e-01,\n",
      "        4.45834e-01,  4.71300e-01,  4.88834e-01,  5.12367e-01,\n",
      "        5.64200e-01,  7.32634e-01,  7.78900e-01,  7.95067e-01,\n",
      "        8.15600e-01,  9.02100e-01,  9.36667e-01,  9.41067e-01,\n",
      "        9.53567e-01,  9.70134e-01]), array([-0.939066, -0.872633, -0.8447  , -0.781733, -0.695933, -0.322066,\n",
      "       -0.2621  , -0.248966, -0.245766, -0.232466, -0.1823  , -0.159333,\n",
      "       -0.154966, -0.097066, -0.066533, -0.0371  , -0.0039  ,  0.029767,\n",
      "        0.099867,  0.1772  ,  0.223167,  0.281967,  0.4141  ,  0.466934,\n",
      "        0.5073  ,  0.5363  ,  0.569834,  0.6132  ,  0.690534,  0.724834,\n",
      "        0.728434,  0.768167,  0.787334]), array([-0.987633, -0.5044  , -0.482667, -0.3279  , -0.3045  , -0.301033,\n",
      "       -0.2773  , -0.207967, -0.181   , -0.175   , -0.170533, -0.123533,\n",
      "       -0.106433, -0.0752  , -0.0274  , -0.003033,  0.052833,  0.075267,\n",
      "        0.147133,  0.182133,  0.219667,  0.256467,  0.296033,  0.3499  ,\n",
      "        0.423633,  0.4579  ,  0.494433,  0.545667,  0.6552  ,  0.743   ,\n",
      "        0.880667,  0.913   ,  0.950567,  0.988067]), array([-0.942333, -0.856833, -0.679433, -0.606833, -0.415333, -0.297567,\n",
      "       -0.217033, -0.200633, -0.19    , -0.162967, -0.129833, -0.1026  ,\n",
      "       -0.057933, -0.022433,  0.014267,  0.074133,  0.101833,  0.176133,\n",
      "        0.2786  ,  0.368833,  0.420833,  0.4505  ,  0.472   ,  0.484467,\n",
      "        0.493   ,  0.509333,  0.5268  ,  0.541233,  0.547667,  0.6193  ,\n",
      "        0.631167,  0.656933,  0.680867,  0.713567,  0.7495  ,  0.817067,\n",
      "        0.8907  ,  0.927067,  0.944533,  0.966667]), array([-0.9846  , -0.900767, -0.828134, -0.7648  , -0.656134, -0.252567,\n",
      "       -0.193434, -0.174034, -0.133734, -0.1082  , -0.048767, -0.017867,\n",
      "        0.012133,  0.446266,  0.474633,  0.496133,  0.554433,  0.559466,\n",
      "        0.570433,  0.6347  ,  0.659766,  0.7433  ,  0.8031  ,  0.8376  ,\n",
      "        0.8425  ,  0.8661  ,  0.870633,  0.8944  ,  0.938833]), array([-0.9791  , -0.859867, -0.7013  , -0.367034, -0.089067, -0.055967,\n",
      "       -0.006967,  0.054633,  0.0792  ,  0.140266,  0.1633  ,  0.3392  ,\n",
      "        0.4031  ,  0.409266,  0.4355  ,  0.476866,  0.4947  ,  0.513366,\n",
      "        0.530833,  0.586233,  0.611566,  0.684333,  0.766433]), array([-0.933533, -0.875667, -0.8519  , -0.547333, -0.473567, -0.457267,\n",
      "       -0.426333, -0.3741  , -0.339567, -0.241567, -0.200233, -0.1643  ,\n",
      "       -0.135467, -0.111733, -0.078633, -0.061733, -0.035833,  0.088233,\n",
      "        0.180233,  0.276   ,  0.292633,  0.3328  ,  0.374367,  0.4043  ,\n",
      "        0.459633,  0.523333,  0.555267,  0.584567,  0.6011  ,  0.623633,\n",
      "        0.628067,  0.685267,  0.711   ,  0.760533,  0.822333,  0.886633,\n",
      "        0.9387  ]), array([-0.992033, -0.955833, -0.890766, -0.881133, -0.6784  , -0.661033,\n",
      "       -0.499133, -0.457733, -0.403533, -0.372866, -0.330666, -0.276366,\n",
      "       -0.228066, -0.2165  , -0.1097  , -0.0732  , -0.068133, -0.034166,\n",
      "       -0.0035  ,  0.0152  ,  0.017634,  0.047834,  0.064967,  0.090134,\n",
      "        0.1232  ,  0.155167,  0.172367,  0.286734,  0.440034,  0.5564  ,\n",
      "        0.625067,  0.6331  ,  0.650234,  0.654567,  0.672934,  0.711567,\n",
      "        0.7496  ,  0.762867,  0.769334,  0.790067,  0.794067,  0.820234,\n",
      "        0.8499  ,  0.8588  ,  0.868534,  0.883667,  0.902367,  0.951467,\n",
      "        0.978634]), array([-0.9896  , -0.924333, -0.9107  , -0.835467, -0.765833, -0.751033,\n",
      "       -0.677267, -0.5512  , -0.230033, -0.154   ,  0.037567,  0.046833,\n",
      "        0.112867,  0.130033,  0.189467,  0.231267,  0.2593  ,  0.288433,\n",
      "        0.359767,  0.377   ,  0.389467,  0.407633,  0.4274  ,  0.470233,\n",
      "        0.501   ,  0.527   ,  0.646067,  0.946967,  0.990433]), array([-0.9808  , -0.872834, -0.8193  , -0.721234, -0.719067, -0.672167,\n",
      "       -0.611334, -0.5215  , -0.4985  , -0.4366  , -0.398934, -0.3796  ,\n",
      "       -0.3429  , -0.310467, -0.127234, -0.076767, -0.0316  ,  0.109166,\n",
      "        0.124533,  0.1449  ,  0.158333,  0.166666,  0.199166,  0.457033,\n",
      "        0.5051  ,  0.511833,  0.531166,  0.564466,  0.590533,  0.613633,\n",
      "        0.652333,  0.668666,  0.6793  ,  0.7011  ,  0.7093  ,  0.7548  ,\n",
      "        0.818833,  0.826433,  0.850433,  0.882233,  0.972533]), array([-0.898533, -0.855733, -0.805467, -0.708167, -0.6376  , -0.527867,\n",
      "       -0.505067, -0.312133, -0.149167, -0.069233, -0.012433,  0.0438  ,\n",
      "        0.0578  ,  0.060567,  0.076767,  0.092467,  0.0958  ,  0.1322  ,\n",
      "        0.1505  ,  0.163467,  0.169167,  0.215967,  0.253133,  0.2909  ,\n",
      "        0.331267,  0.373133,  0.385767,  0.4357  ,  0.525067,  0.6259  ,\n",
      "        0.6532  ,  0.730867]), array([-0.923033, -0.857733, -0.6298  , -0.555166, -0.152666, -0.138233,\n",
      "       -0.065733, -0.047233, -0.041   , -0.0224  ,  0.017634,  0.047567,\n",
      "        0.054167,  0.094267,  0.126734,  0.137734,  0.157167,  0.169767,\n",
      "        0.190867,  0.228667,  0.289867,  0.302167,  0.3579  ,  0.380634,\n",
      "        0.403067,  0.427   ,  0.441434,  0.496567,  0.522067,  0.544534,\n",
      "        0.6143  ,  0.694267,  0.7513  ])]\n"
     ]
    }
   ],
   "source": [
    "smooth5ms_spikes = [gaussian_filter(spike_train, 0.05) for spike_train in relative_spikes]\n",
    "print(smooth5ms_spikes)\n",
    "# I could np convolve with a gaussian or I could use scipy but would need to make a bin size for the resolution of the graph"
   ]
  },
  {
   "cell_type": "code",
   "execution_count": 10,
   "id": "ef9cdaa5",
   "metadata": {},
   "outputs": [
    {
     "name": "stdout",
     "output_type": "stream",
     "text": [
      "158\n",
      "158\n",
      "20458\n"
     ]
    }
   ],
   "source": [
    "print(len(go_info))\n",
    "print(len(direction))\n",
    "print(len(neuron94))"
   ]
  }
 ],
 "metadata": {
  "kernelspec": {
   "display_name": "compneuro",
   "language": "python",
   "name": "python3"
  },
  "language_info": {
   "codemirror_mode": {
    "name": "ipython",
    "version": 3
   },
   "file_extension": ".py",
   "mimetype": "text/x-python",
   "name": "python",
   "nbconvert_exporter": "python",
   "pygments_lexer": "ipython3",
   "version": "3.10.18"
  }
 },
 "nbformat": 4,
 "nbformat_minor": 5
}
